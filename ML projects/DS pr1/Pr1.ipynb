{
 "cells": [
  {
   "cell_type": "code",
   "execution_count": 91,
   "id": "b63c00d8",
   "metadata": {},
   "outputs": [
    {
     "name": "stdout",
     "output_type": "stream",
     "text": [
      "Collecting openpyxlNote: you may need to restart the kernel to use updated packages.\n",
      "\n",
      "  Downloading openpyxl-3.0.10-py2.py3-none-any.whl (242 kB)\n",
      "     ------------------------------------ 242.1/242.1 kB 176.6 kB/s eta 0:00:00\n",
      "Collecting et-xmlfile\n",
      "  Downloading et_xmlfile-1.1.0-py3-none-any.whl (4.7 kB)\n",
      "Installing collected packages: et-xmlfile, openpyxl\n",
      "Successfully installed et-xmlfile-1.1.0 openpyxl-3.0.10\n"
     ]
    },
    {
     "name": "stderr",
     "output_type": "stream",
     "text": [
      "WARNING: There was an error checking the latest version of pip.\n"
     ]
    }
   ],
   "source": [
    "pip install openpyxl"
   ]
  },
  {
   "cell_type": "code",
   "execution_count": 1,
   "id": "6e5ca1a8",
   "metadata": {},
   "outputs": [],
   "source": [
    "import pandas as pd"
   ]
  },
  {
   "cell_type": "code",
   "execution_count": 2,
   "id": "0dcc0a7d",
   "metadata": {},
   "outputs": [],
   "source": [
    "df=pd.read_csv('D:/2021/Yearly Consolidated/BANKNIFTY.csv')     #importing the banknifty dataset"
   ]
  },
  {
   "cell_type": "code",
   "execution_count": 3,
   "id": "0a5fe78e",
   "metadata": {},
   "outputs": [
    {
     "data": {
      "text/html": [
       "<div>\n",
       "<style scoped>\n",
       "    .dataframe tbody tr th:only-of-type {\n",
       "        vertical-align: middle;\n",
       "    }\n",
       "\n",
       "    .dataframe tbody tr th {\n",
       "        vertical-align: top;\n",
       "    }\n",
       "\n",
       "    .dataframe thead th {\n",
       "        text-align: right;\n",
       "    }\n",
       "</style>\n",
       "<table border=\"1\" class=\"dataframe\">\n",
       "  <thead>\n",
       "    <tr style=\"text-align: right;\">\n",
       "      <th></th>\n",
       "      <th>TICKER</th>\n",
       "      <th>DATE</th>\n",
       "      <th>TIME</th>\n",
       "      <th>OPEN</th>\n",
       "      <th>HIGH</th>\n",
       "      <th>LOW</th>\n",
       "      <th>CLOSE</th>\n",
       "    </tr>\n",
       "  </thead>\n",
       "  <tbody>\n",
       "    <tr>\n",
       "      <th>0</th>\n",
       "      <td>BANKNIFTY</td>\n",
       "      <td>01/01/2021</td>\n",
       "      <td>9:16</td>\n",
       "      <td>31279.8</td>\n",
       "      <td>31359.0</td>\n",
       "      <td>31243.6</td>\n",
       "      <td>31337.3</td>\n",
       "    </tr>\n",
       "    <tr>\n",
       "      <th>1</th>\n",
       "      <td>BANKNIFTY</td>\n",
       "      <td>01/01/2021</td>\n",
       "      <td>9:17</td>\n",
       "      <td>31337.7</td>\n",
       "      <td>31355.8</td>\n",
       "      <td>31309.8</td>\n",
       "      <td>31309.8</td>\n",
       "    </tr>\n",
       "    <tr>\n",
       "      <th>2</th>\n",
       "      <td>BANKNIFTY</td>\n",
       "      <td>01/01/2021</td>\n",
       "      <td>9:18</td>\n",
       "      <td>31308.8</td>\n",
       "      <td>31315.9</td>\n",
       "      <td>31297.1</td>\n",
       "      <td>31315.8</td>\n",
       "    </tr>\n",
       "    <tr>\n",
       "      <th>3</th>\n",
       "      <td>BANKNIFTY</td>\n",
       "      <td>01/01/2021</td>\n",
       "      <td>9:19</td>\n",
       "      <td>31317.9</td>\n",
       "      <td>31351.7</td>\n",
       "      <td>31317.9</td>\n",
       "      <td>31343.7</td>\n",
       "    </tr>\n",
       "    <tr>\n",
       "      <th>4</th>\n",
       "      <td>BANKNIFTY</td>\n",
       "      <td>01/01/2021</td>\n",
       "      <td>9:20</td>\n",
       "      <td>31342.4</td>\n",
       "      <td>31347.3</td>\n",
       "      <td>31328.2</td>\n",
       "      <td>31344.3</td>\n",
       "    </tr>\n",
       "  </tbody>\n",
       "</table>\n",
       "</div>"
      ],
      "text/plain": [
       "      TICKER        DATE  TIME     OPEN     HIGH     LOW     CLOSE\n",
       "0  BANKNIFTY  01/01/2021  9:16  31279.8  31359.0  31243.6  31337.3\n",
       "1  BANKNIFTY  01/01/2021  9:17  31337.7  31355.8  31309.8  31309.8\n",
       "2  BANKNIFTY  01/01/2021  9:18  31308.8  31315.9  31297.1  31315.8\n",
       "3  BANKNIFTY  01/01/2021  9:19  31317.9  31351.7  31317.9  31343.7\n",
       "4  BANKNIFTY  01/01/2021  9:20  31342.4  31347.3  31328.2  31344.3"
      ]
     },
     "execution_count": 3,
     "metadata": {},
     "output_type": "execute_result"
    }
   ],
   "source": [
    "df.head()"
   ]
  },
  {
   "cell_type": "code",
   "execution_count": 9,
   "id": "6f232f10",
   "metadata": {},
   "outputs": [
    {
     "data": {
      "text/plain": [
       "Index(['TICKER', 'DATE', 'TIME', 'OPEN', 'HIGH', 'LOW ', 'CLOSE', 'RANGE'], dtype='object')"
      ]
     },
     "execution_count": 9,
     "metadata": {},
     "output_type": "execute_result"
    }
   ],
   "source": [
    "df.columns"
   ]
  },
  {
   "cell_type": "code",
   "execution_count": 5,
   "id": "563489fc",
   "metadata": {},
   "outputs": [],
   "source": [
    "df.insert(7,column=\"RANGE\",value=df[\"HIGH\"]-df[\"LOW \"])    #inserting the required range column"
   ]
  },
  {
   "cell_type": "code",
   "execution_count": 6,
   "id": "92397424",
   "metadata": {},
   "outputs": [],
   "source": [
    "df.to_excel(\"BANKNIFTY_NEW.xlsx\")                    #creating an excel file of the updated dataset"
   ]
  },
  {
   "cell_type": "code",
   "execution_count": 7,
   "id": "4766feea",
   "metadata": {},
   "outputs": [],
   "source": [
    "df1=pd.read_csv('D:/2021/Yearly Consolidated/NIFTY.csv')        #importing the nifty dataset"
   ]
  },
  {
   "cell_type": "code",
   "execution_count": 8,
   "id": "1956bb14",
   "metadata": {},
   "outputs": [
    {
     "data": {
      "text/html": [
       "<div>\n",
       "<style scoped>\n",
       "    .dataframe tbody tr th:only-of-type {\n",
       "        vertical-align: middle;\n",
       "    }\n",
       "\n",
       "    .dataframe tbody tr th {\n",
       "        vertical-align: top;\n",
       "    }\n",
       "\n",
       "    .dataframe thead th {\n",
       "        text-align: right;\n",
       "    }\n",
       "</style>\n",
       "<table border=\"1\" class=\"dataframe\">\n",
       "  <thead>\n",
       "    <tr style=\"text-align: right;\">\n",
       "      <th></th>\n",
       "      <th>TICKER</th>\n",
       "      <th>DATE</th>\n",
       "      <th>TIME</th>\n",
       "      <th>OPEN</th>\n",
       "      <th>HIGH</th>\n",
       "      <th>LOW</th>\n",
       "      <th>CLOSE</th>\n",
       "    </tr>\n",
       "  </thead>\n",
       "  <tbody>\n",
       "    <tr>\n",
       "      <th>0</th>\n",
       "      <td>NIFTY</td>\n",
       "      <td>01-01-2021</td>\n",
       "      <td>09:16</td>\n",
       "      <td>13997.9</td>\n",
       "      <td>14020.8</td>\n",
       "      <td>13991.3</td>\n",
       "      <td>14013.2</td>\n",
       "    </tr>\n",
       "    <tr>\n",
       "      <th>1</th>\n",
       "      <td>NIFTY</td>\n",
       "      <td>01-01-2021</td>\n",
       "      <td>09:17</td>\n",
       "      <td>14014.8</td>\n",
       "      <td>14018.5</td>\n",
       "      <td>14008.2</td>\n",
       "      <td>14009.0</td>\n",
       "    </tr>\n",
       "    <tr>\n",
       "      <th>2</th>\n",
       "      <td>NIFTY</td>\n",
       "      <td>01-01-2021</td>\n",
       "      <td>09:18</td>\n",
       "      <td>14008.0</td>\n",
       "      <td>14013.1</td>\n",
       "      <td>14005.0</td>\n",
       "      <td>14012.7</td>\n",
       "    </tr>\n",
       "    <tr>\n",
       "      <th>3</th>\n",
       "      <td>NIFTY</td>\n",
       "      <td>01-01-2021</td>\n",
       "      <td>09:19</td>\n",
       "      <td>14013.7</td>\n",
       "      <td>14019.1</td>\n",
       "      <td>14013.7</td>\n",
       "      <td>14016.2</td>\n",
       "    </tr>\n",
       "    <tr>\n",
       "      <th>4</th>\n",
       "      <td>NIFTY</td>\n",
       "      <td>01-01-2021</td>\n",
       "      <td>09:20</td>\n",
       "      <td>14015.5</td>\n",
       "      <td>14017.8</td>\n",
       "      <td>14012.0</td>\n",
       "      <td>14015.5</td>\n",
       "    </tr>\n",
       "  </tbody>\n",
       "</table>\n",
       "</div>"
      ],
      "text/plain": [
       "  TICKER        DATE   TIME     OPEN     HIGH      LOW    CLOSE\n",
       "0  NIFTY  01-01-2021  09:16  13997.9  14020.8  13991.3  14013.2\n",
       "1  NIFTY  01-01-2021  09:17  14014.8  14018.5  14008.2  14009.0\n",
       "2  NIFTY  01-01-2021  09:18  14008.0  14013.1  14005.0  14012.7\n",
       "3  NIFTY  01-01-2021  09:19  14013.7  14019.1  14013.7  14016.2\n",
       "4  NIFTY  01-01-2021  09:20  14015.5  14017.8  14012.0  14015.5"
      ]
     },
     "execution_count": 8,
     "metadata": {},
     "output_type": "execute_result"
    }
   ],
   "source": [
    "df1.head()"
   ]
  },
  {
   "cell_type": "code",
   "execution_count": 10,
   "id": "e22d90c9",
   "metadata": {},
   "outputs": [
    {
     "data": {
      "text/plain": [
       "Index(['TICKER', 'DATE', 'TIME', 'OPEN', 'HIGH', 'LOW', 'CLOSE'], dtype='object')"
      ]
     },
     "execution_count": 10,
     "metadata": {},
     "output_type": "execute_result"
    }
   ],
   "source": [
    "df1.columns"
   ]
  },
  {
   "cell_type": "code",
   "execution_count": 12,
   "id": "9ec13d66",
   "metadata": {},
   "outputs": [],
   "source": [
    "df1.insert(7,column=\"RANGE\",value=df1[\"HIGH\"]-df1[\"LOW\"])     #inserting the required range column"
   ]
  },
  {
   "cell_type": "code",
   "execution_count": 13,
   "id": "f294f25f",
   "metadata": {},
   "outputs": [
    {
     "data": {
      "text/html": [
       "<div>\n",
       "<style scoped>\n",
       "    .dataframe tbody tr th:only-of-type {\n",
       "        vertical-align: middle;\n",
       "    }\n",
       "\n",
       "    .dataframe tbody tr th {\n",
       "        vertical-align: top;\n",
       "    }\n",
       "\n",
       "    .dataframe thead th {\n",
       "        text-align: right;\n",
       "    }\n",
       "</style>\n",
       "<table border=\"1\" class=\"dataframe\">\n",
       "  <thead>\n",
       "    <tr style=\"text-align: right;\">\n",
       "      <th></th>\n",
       "      <th>TICKER</th>\n",
       "      <th>DATE</th>\n",
       "      <th>TIME</th>\n",
       "      <th>OPEN</th>\n",
       "      <th>HIGH</th>\n",
       "      <th>LOW</th>\n",
       "      <th>CLOSE</th>\n",
       "      <th>RANGE</th>\n",
       "    </tr>\n",
       "  </thead>\n",
       "  <tbody>\n",
       "    <tr>\n",
       "      <th>0</th>\n",
       "      <td>NIFTY</td>\n",
       "      <td>01-01-2021</td>\n",
       "      <td>09:16</td>\n",
       "      <td>13997.9</td>\n",
       "      <td>14020.8</td>\n",
       "      <td>13991.3</td>\n",
       "      <td>14013.2</td>\n",
       "      <td>29.5</td>\n",
       "    </tr>\n",
       "    <tr>\n",
       "      <th>1</th>\n",
       "      <td>NIFTY</td>\n",
       "      <td>01-01-2021</td>\n",
       "      <td>09:17</td>\n",
       "      <td>14014.8</td>\n",
       "      <td>14018.5</td>\n",
       "      <td>14008.2</td>\n",
       "      <td>14009.0</td>\n",
       "      <td>10.3</td>\n",
       "    </tr>\n",
       "    <tr>\n",
       "      <th>2</th>\n",
       "      <td>NIFTY</td>\n",
       "      <td>01-01-2021</td>\n",
       "      <td>09:18</td>\n",
       "      <td>14008.0</td>\n",
       "      <td>14013.1</td>\n",
       "      <td>14005.0</td>\n",
       "      <td>14012.7</td>\n",
       "      <td>8.1</td>\n",
       "    </tr>\n",
       "    <tr>\n",
       "      <th>3</th>\n",
       "      <td>NIFTY</td>\n",
       "      <td>01-01-2021</td>\n",
       "      <td>09:19</td>\n",
       "      <td>14013.7</td>\n",
       "      <td>14019.1</td>\n",
       "      <td>14013.7</td>\n",
       "      <td>14016.2</td>\n",
       "      <td>5.4</td>\n",
       "    </tr>\n",
       "    <tr>\n",
       "      <th>4</th>\n",
       "      <td>NIFTY</td>\n",
       "      <td>01-01-2021</td>\n",
       "      <td>09:20</td>\n",
       "      <td>14015.5</td>\n",
       "      <td>14017.8</td>\n",
       "      <td>14012.0</td>\n",
       "      <td>14015.5</td>\n",
       "      <td>5.8</td>\n",
       "    </tr>\n",
       "  </tbody>\n",
       "</table>\n",
       "</div>"
      ],
      "text/plain": [
       "  TICKER        DATE   TIME     OPEN     HIGH      LOW    CLOSE  RANGE\n",
       "0  NIFTY  01-01-2021  09:16  13997.9  14020.8  13991.3  14013.2   29.5\n",
       "1  NIFTY  01-01-2021  09:17  14014.8  14018.5  14008.2  14009.0   10.3\n",
       "2  NIFTY  01-01-2021  09:18  14008.0  14013.1  14005.0  14012.7    8.1\n",
       "3  NIFTY  01-01-2021  09:19  14013.7  14019.1  14013.7  14016.2    5.4\n",
       "4  NIFTY  01-01-2021  09:20  14015.5  14017.8  14012.0  14015.5    5.8"
      ]
     },
     "execution_count": 13,
     "metadata": {},
     "output_type": "execute_result"
    }
   ],
   "source": [
    "df1.head()"
   ]
  },
  {
   "cell_type": "code",
   "execution_count": 14,
   "id": "8b074f73",
   "metadata": {},
   "outputs": [],
   "source": [
    "df1.to_excel(\"NIFTY_NEW.xlsx\")      #creating an excel file of the updated dataset"
   ]
  },
  {
   "cell_type": "code",
   "execution_count": null,
   "id": "67267e33",
   "metadata": {},
   "outputs": [],
   "source": []
  }
 ],
 "metadata": {
  "kernelspec": {
   "display_name": "Python 3 (ipykernel)",
   "language": "python",
   "name": "python3"
  },
  "language_info": {
   "codemirror_mode": {
    "name": "ipython",
    "version": 3
   },
   "file_extension": ".py",
   "mimetype": "text/x-python",
   "name": "python",
   "nbconvert_exporter": "python",
   "pygments_lexer": "ipython3",
   "version": "3.8.5"
  }
 },
 "nbformat": 4,
 "nbformat_minor": 5
}
