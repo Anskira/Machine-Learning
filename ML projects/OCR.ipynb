{
  "nbformat": 4,
  "nbformat_minor": 0,
  "metadata": {
    "colab": {
      "name": "Untitled3.ipynb",
      "provenance": []
    },
    "kernelspec": {
      "name": "python3",
      "display_name": "Python 3"
    },
    "language_info": {
      "name": "python"
    },
    "accelerator": "GPU"
  },
  "cells": [
    {
      "cell_type": "code",
      "metadata": {
        "colab": {
          "base_uri": "https://localhost:8080/"
        },
        "id": "YudeHb_AxXH-",
        "outputId": "aa7f7017-ac1f-405e-9057-45b586cb1a0b"
      },
      "source": [
        "!pip install easyocr"
      ],
      "execution_count": 1,
      "outputs": [
        {
          "output_type": "stream",
          "name": "stdout",
          "text": [
            "Collecting easyocr\n",
            "  Downloading easyocr-1.4-py3-none-any.whl (63.6 MB)\n",
            "\u001b[K     |████████████████████████████████| 63.6 MB 8.7 kB/s \n",
            "\u001b[?25hRequirement already satisfied: torchvision>=0.5 in /usr/local/lib/python3.7/dist-packages (from easyocr) (0.10.0+cu102)\n",
            "Requirement already satisfied: scipy in /usr/local/lib/python3.7/dist-packages (from easyocr) (1.4.1)\n",
            "Requirement already satisfied: torch in /usr/local/lib/python3.7/dist-packages (from easyocr) (1.9.0+cu102)\n",
            "Requirement already satisfied: PyYAML in /usr/local/lib/python3.7/dist-packages (from easyocr) (3.13)\n",
            "Requirement already satisfied: Pillow in /usr/local/lib/python3.7/dist-packages (from easyocr) (7.1.2)\n",
            "Collecting python-bidi\n",
            "  Downloading python_bidi-0.4.2-py2.py3-none-any.whl (30 kB)\n",
            "Requirement already satisfied: numpy in /usr/local/lib/python3.7/dist-packages (from easyocr) (1.19.5)\n",
            "Requirement already satisfied: opencv-python in /usr/local/lib/python3.7/dist-packages (from easyocr) (4.1.2.30)\n",
            "Requirement already satisfied: scikit-image in /usr/local/lib/python3.7/dist-packages (from easyocr) (0.16.2)\n",
            "Requirement already satisfied: typing-extensions in /usr/local/lib/python3.7/dist-packages (from torch->easyocr) (3.7.4.3)\n",
            "Requirement already satisfied: six in /usr/local/lib/python3.7/dist-packages (from python-bidi->easyocr) (1.15.0)\n",
            "Requirement already satisfied: matplotlib!=3.0.0,>=2.0.0 in /usr/local/lib/python3.7/dist-packages (from scikit-image->easyocr) (3.2.2)\n",
            "Requirement already satisfied: PyWavelets>=0.4.0 in /usr/local/lib/python3.7/dist-packages (from scikit-image->easyocr) (1.1.1)\n",
            "Requirement already satisfied: networkx>=2.0 in /usr/local/lib/python3.7/dist-packages (from scikit-image->easyocr) (2.6.2)\n",
            "Requirement already satisfied: imageio>=2.3.0 in /usr/local/lib/python3.7/dist-packages (from scikit-image->easyocr) (2.4.1)\n",
            "Requirement already satisfied: cycler>=0.10 in /usr/local/lib/python3.7/dist-packages (from matplotlib!=3.0.0,>=2.0.0->scikit-image->easyocr) (0.10.0)\n",
            "Requirement already satisfied: kiwisolver>=1.0.1 in /usr/local/lib/python3.7/dist-packages (from matplotlib!=3.0.0,>=2.0.0->scikit-image->easyocr) (1.3.1)\n",
            "Requirement already satisfied: pyparsing!=2.0.4,!=2.1.2,!=2.1.6,>=2.0.1 in /usr/local/lib/python3.7/dist-packages (from matplotlib!=3.0.0,>=2.0.0->scikit-image->easyocr) (2.4.7)\n",
            "Requirement already satisfied: python-dateutil>=2.1 in /usr/local/lib/python3.7/dist-packages (from matplotlib!=3.0.0,>=2.0.0->scikit-image->easyocr) (2.8.2)\n",
            "Installing collected packages: python-bidi, easyocr\n",
            "Successfully installed easyocr-1.4 python-bidi-0.4.2\n"
          ]
        }
      ]
    },
    {
      "cell_type": "code",
      "metadata": {
        "colab": {
          "base_uri": "https://localhost:8080/"
        },
        "id": "7ajSXTqDroD9",
        "outputId": "ddcfca64-eb03-4ffe-c0e6-9c81268ddb54"
      },
      "source": [
        "from google.colab import drive\n",
        "drive.mount('/content/drive')"
      ],
      "execution_count": 2,
      "outputs": [
        {
          "output_type": "stream",
          "name": "stdout",
          "text": [
            "Mounted at /content/drive\n"
          ]
        }
      ]
    },
    {
      "cell_type": "code",
      "metadata": {
        "id": "B0tycku5xZcO"
      },
      "source": [
        "import easyocr\n",
        "import matplotlib.pyplot as plt\n",
        "import cv2\n",
        "from pylab import rcParams\n",
        "from IPython.display import Image\n",
        "rcParams['figure.figsize']=8,16"
      ],
      "execution_count": 3,
      "outputs": []
    },
    {
      "cell_type": "code",
      "metadata": {
        "colab": {
          "base_uri": "https://localhost:8080/"
        },
        "id": "9TpGdqTGxifp",
        "outputId": "02859012-52ca-4a97-ced3-2b9f42224d7e"
      },
      "source": [
        "reader=easyocr.Reader(['en'])"
      ],
      "execution_count": 4,
      "outputs": [
        {
          "output_type": "stream",
          "name": "stderr",
          "text": [
            "Downloading detection model, please wait. This may take several minutes depending upon your network connection.\n"
          ]
        },
        {
          "output_type": "stream",
          "name": "stdout",
          "text": [
            ""
          ]
        },
        {
          "output_type": "stream",
          "name": "stderr",
          "text": [
            "Downloading recognition model, please wait. This may take several minutes depending upon your network connection.\n"
          ]
        },
        {
          "output_type": "stream",
          "name": "stdout",
          "text": [
            ""
          ]
        }
      ]
    },
    {
      "cell_type": "code",
      "metadata": {
        "colab": {
          "base_uri": "https://localhost:8080/"
        },
        "id": "KVH47EsaoCCt",
        "outputId": "fcb8b7b8-8c36-4b0f-d19a-ef46c1cb64fc"
      },
      "source": [
        "output=reader.readtext(\"Image0.jpg\",contrast_ths=0.05,adjust_contrast=0.7,add_margin=0.45,width_ths=0.7,decoder=\"beamsearch\")"
      ],
      "execution_count": 5,
      "outputs": [
        {
          "output_type": "stream",
          "name": "stderr",
          "text": [
            "/usr/local/lib/python3.7/dist-packages/torch/nn/functional.py:718: UserWarning: Named tensors and all their associated APIs are an experimental feature and subject to change. Please do not use them for anything important until they are released as stable. (Triggered internally at  /pytorch/c10/core/TensorImpl.h:1156.)\n",
            "  return torch.max_pool2d(input, kernel_size, stride, padding, dilation, ceil_mode)\n"
          ]
        }
      ]
    },
    {
      "cell_type": "code",
      "metadata": {
        "id": "juoUDgqlsKGK"
      },
      "source": [
        "output=[output[x][1] for x in range(0,len(output)) ]"
      ],
      "execution_count": 8,
      "outputs": []
    },
    {
      "cell_type": "code",
      "metadata": {
        "colab": {
          "base_uri": "https://localhost:8080/"
        },
        "id": "2POBnbaDsfD4",
        "outputId": "4b28116a-c44d-4e3b-baf2-830b91a86bc5"
      },
      "source": [
        "output"
      ],
      "execution_count": 9,
      "outputs": [
        {
          "output_type": "execute_result",
          "data": {
            "text/plain": [
              "['Three month perlod ended',\n",
              " 'Nlne m',\n",
              " \"'period ended\",\n",
              " 'ended',\n",
              " 'December 31,',\n",
              " '[September 30, |',\n",
              " 'December 31,',\n",
              " 'December 31,',\n",
              " 'December 31,',\n",
              " 'March 31,',\n",
              " '2020',\n",
              " '2020',\n",
              " '2019',\n",
              " '2020',\n",
              " '2019',\n",
              " '2020',\n",
              " 'Revenue',\n",
              " '42,015 |',\n",
              " '40,135|',\n",
              " '39,854 |',\n",
              " '120,472 |',\n",
              " '117,003 ',\n",
              " '\"156,949',\n",
              " 'Other income',\n",
              " '691_',\n",
              " '914',\n",
              " '818 |',\n",
              " '~2,203|',\n",
              " '\"3,854 |',\n",
              " '4,592',\n",
              " 'TOTAL INCOME',\n",
              " '442,706|',\n",
              " '41,049 |',\n",
              " '40,672 |',\n",
              " '\"122,675 |',\n",
              " '\"120,857 |',\n",
              " '161,541',\n",
              " 'Expenses',\n",
              " 'Employee benefit expenses',\n",
              " '23,431|',\n",
              " '22,665 |',\n",
              " '21,622 |',\n",
              " '68,189 |',\n",
              " '~63,901|',\n",
              " '\"85,952',\n",
              " '(Fees to external consultants',\n",
              " '3,230 |',\n",
              " '3,047 |',\n",
              " '3,268 |',\n",
              " '~9,340/',\n",
              " '~9,741|',\n",
              " '12,937',\n",
              " 'Cost of equipment and software licences',\n",
              " '396 |',\n",
              " '266 |',\n",
              " '460 |',\n",
              " '~1,008/',\n",
              " '1,436 |',\n",
              " '1,905',\n",
              " 'Depreciatlon and amortisation expense',\n",
              " '1,024 |',\n",
              " '998 |',\n",
              " '\"897 |',\n",
              " '2,998|',\n",
              " '2,578/',\n",
              " '\"3,529',\n",
              " 'other operating expenses',\n",
              " '2750 |',\n",
              " '2,644',\n",
              " '3,633 _',\n",
              " '~8,190/',\n",
              " '~10,792/',\n",
              " '14,046',\n",
              " 'TOTAL EXPENSES',\n",
              " '30,831]',\n",
              " '729,620 |',\n",
              " '229,5',\n",
              " '89,725 |',\n",
              " '~88,448 ]',\n",
              " '~118,369',\n",
              " 'PROFIT BEFORE FINANCE COSTS, EXCEPTIONAL ITEM AND TAX',\n",
              " '\"711,875 ',\n",
              " '\"11,429 |',\n",
              " '\"10,792 |',\n",
              " '\"32,950 |',\n",
              " '32,409 |',\n",
              " '\"43,172',\n",
              " 'Finance costs',\n",
              " '183 |',\n",
              " '~174|',\n",
              " '~223|',\n",
              " '499|',\n",
              " '~572]',\n",
              " '924',\n",
              " 'PROFIT BEFORE EXCEPTIONAL ITEM AND TAX',\n",
              " '\"711,692 |',\n",
              " '\"11,255 |',\n",
              " '\"10,569 |',\n",
              " '\"32,451 |',\n",
              " '\"31,736 |',\n",
              " '\"42,248',\n",
              " 'Exceptional item (Refer note 2)',\n",
              " 'Provision towards legal claim',\n",
              " '1,218 |',\n",
              " '1,218|',\n",
              " \"'month F\",\n",
              " '~Year €',\n",
              " ',880 |']"
            ]
          },
          "metadata": {},
          "execution_count": 9
        }
      ]
    },
    {
      "cell_type": "code",
      "metadata": {
        "id": "kVd6hYJ3bubX"
      },
      "source": [
        "index_r1=output.index('120,472 |')\n",
        "index_r2=output.index('\"156,949')\n",
        "index_t1=output.index('89,725 |')\n",
        "index_t2=output.index('~118,369')"
      ],
      "execution_count": 11,
      "outputs": []
    },
    {
      "cell_type": "code",
      "metadata": {
        "id": "56Sl2dZtAFOf"
      },
      "source": [
        "import pandas as pd\n"
      ],
      "execution_count": 12,
      "outputs": []
    },
    {
      "cell_type": "code",
      "metadata": {
        "id": "xEj6frOSAz-A"
      },
      "source": [
        "data=[[output[index_r1],output[index_r2]],[output[index_r2],output[index_t2]]]"
      ],
      "execution_count": 15,
      "outputs": []
    },
    {
      "cell_type": "code",
      "metadata": {
        "id": "HhwNW223CqCm"
      },
      "source": [
        "df=pd.DataFrame(data,columns=('December 31,2020','March 31,2020'))\n",
        "df.index=['Revenue','Total Expenses']"
      ],
      "execution_count": 18,
      "outputs": []
    },
    {
      "cell_type": "code",
      "metadata": {
        "colab": {
          "base_uri": "https://localhost:8080/",
          "height": 111
        },
        "id": "d97mMCgHC-qX",
        "outputId": "9057dc79-149b-4a04-990e-38550bb03359"
      },
      "source": [
        "df"
      ],
      "execution_count": 19,
      "outputs": [
        {
          "output_type": "execute_result",
          "data": {
            "text/html": [
              "<div>\n",
              "<style scoped>\n",
              "    .dataframe tbody tr th:only-of-type {\n",
              "        vertical-align: middle;\n",
              "    }\n",
              "\n",
              "    .dataframe tbody tr th {\n",
              "        vertical-align: top;\n",
              "    }\n",
              "\n",
              "    .dataframe thead th {\n",
              "        text-align: right;\n",
              "    }\n",
              "</style>\n",
              "<table border=\"1\" class=\"dataframe\">\n",
              "  <thead>\n",
              "    <tr style=\"text-align: right;\">\n",
              "      <th></th>\n",
              "      <th>December 31,2020</th>\n",
              "      <th>March 31,2020</th>\n",
              "    </tr>\n",
              "  </thead>\n",
              "  <tbody>\n",
              "    <tr>\n",
              "      <th>Revenue</th>\n",
              "      <td>120,472 |</td>\n",
              "      <td>\"156,949</td>\n",
              "    </tr>\n",
              "    <tr>\n",
              "      <th>Total Expenses</th>\n",
              "      <td>\"156,949</td>\n",
              "      <td>~118,369</td>\n",
              "    </tr>\n",
              "  </tbody>\n",
              "</table>\n",
              "</div>"
            ],
            "text/plain": [
              "               December 31,2020 March 31,2020\n",
              "Revenue               120,472 |      \"156,949\n",
              "Total Expenses         \"156,949      ~118,369"
            ]
          },
          "metadata": {},
          "execution_count": 19
        }
      ]
    },
    {
      "cell_type": "code",
      "metadata": {
        "id": "t54p34WdDiXi"
      },
      "source": [
        ""
      ],
      "execution_count": null,
      "outputs": []
    }
  ]
}