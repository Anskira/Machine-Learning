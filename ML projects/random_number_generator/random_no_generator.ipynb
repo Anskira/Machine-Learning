{
 "cells": [
  {
   "cell_type": "markdown",
   "id": "9c478e82",
   "metadata": {},
   "source": [
    "In the below cell, I have defined a function to generate random numbers. I have used linear congruential generator algorithm"
   ]
  },
  {
   "cell_type": "code",
   "execution_count": null,
   "id": "be15dd7a",
   "metadata": {},
   "outputs": [],
   "source": [
    "def linear_random(seed,modulus,a,c,n):\n",
    "    result = [0]*n\n",
    "\n",
    "    result[0]=seed\n",
    "    for i in range(1,n):\n",
    "        result[i]=((result[i-1]*a)+c)%modulus\n",
    "    return result"
   ]
  },
  {
   "cell_type": "markdown",
   "id": "978f2db6",
   "metadata": {},
   "source": [
    "In the below cell, I have defined a function to generate random numbers between 0 and 1, this function is being used to calculate the value of pi. "
   ]
  },
  {
   "cell_type": "code",
   "execution_count": 27,
   "id": "fe4492bb",
   "metadata": {},
   "outputs": [],
   "source": [
    "def linear_random_float(seed,modulus,a,c,n):\n",
    "    list2=linear_random(seed,modulus,a,c,n)\n",
    "    for i in range(len(list2)):\n",
    "        list2[i]=list2[i]/modulus\n",
    "    return list2"
   ]
  },
  {
   "cell_type": "code",
   "execution_count": 28,
   "id": "6a540606",
   "metadata": {},
   "outputs": [],
   "source": [
    "list1=linear_random(5,2**8,121,100,100)      # to generate a different set of values, change any value passed in this statement\n",
    "print(list1)        #run this statement to print all the randomly generated values\n",
    "list3=[seed]*n"
   ]
  },
  {
   "cell_type": "code",
   "execution_count": 29,
   "id": "7420dc19",
   "metadata": {},
   "outputs": [],
   "source": [
    "import matplotlib.pyplot as plt"
   ]
  },
  {
   "cell_type": "markdown",
   "id": "479dbe2d",
   "metadata": {},
   "source": [
    "In the below cell I have displayed the random numbers generated, the Y-axis represents the seed used to generate values and the X-axis denotes the values generated. The values generated are shown by 'o'."
   ]
  },
  {
   "cell_type": "code",
   "execution_count": 32,
   "id": "aee8ce51",
   "metadata": {},
   "outputs": [
    {
     "data": {
      "text/plain": [
       "Text(0, 0.5, 'Seed value')"
      ]
     },
     "execution_count": 32,
     "metadata": {},
     "output_type": "execute_result"
    },
    {
     "data": {
      "image/png": "[encoded data removed]",
      "text/plain": [
       "<Figure size 864x864 with 1 Axes>"
      ]
     },
     "metadata": {
      "needs_background": "light"
     },
     "output_type": "display_data"
    }
   ],
   "source": [
    "plt.figure(figsize=(12,12))\n",
    "plt.plot(list1, list3, color='green', linestyle='dashed', linewidth = 3,\n",
    "         marker='o', markerfacecolor='blue', markersize=4)\n",
    "plt.xlabel('Random numbers generated')\n",
    "plt.ylabel('Seed value')\n"
   ]
  },
  {
   "cell_type": "markdown",
   "id": "6fd77339",
   "metadata": {},
   "source": [
    "To calculate the value of pi, I have used the help of co-ordinate geometry. Considering the area of a square of side 2 and the circle that is inscribed inside it with radius 1. We consider only the first quadrant and then we randomly mark points in the first quadrant. Then we measure the number of points inside the circle. Once we have this value the approximate value of pi can be calculated with a simple formula mentioned in the below cell."
   ]
  },
  {
   "cell_type": "code",
   "execution_count": 50,
   "id": "fa5b0977",
   "metadata": {},
   "outputs": [],
   "source": [
    "# calculating the value of pi\n",
    "n=10000\n",
    "point_inside=0\n",
    "total_points=n\n",
    "X=linear_random_float(4,2**9,113,99,n)\n",
    "Y=linear_random_float(7,2**9,169,101,n)\n",
    "for i in range(n):\n",
    "    x=X[i]\n",
    "    y=Y[i]\n",
    "    if (x*x+y*y)**0.5<1:\n",
    "        point_inside+=1\n",
    "pi=4*point_inside/n   #formula to calculate value of pi"
   ]
  },
  {
   "cell_type": "code",
   "execution_count": 51,
   "id": "25f901e3",
   "metadata": {},
   "outputs": [
    {
     "name": "stdout",
     "output_type": "stream",
     "text": [
      "3.1316\n"
     ]
    }
   ],
   "source": [
    "print(pi)"
   ]
  },
  {
   "cell_type": "code",
   "execution_count": null,
   "id": "0d44613f",
   "metadata": {},
   "outputs": [],
   "source": []
  }
 ],
 "metadata": {
  "kernelspec": {
   "display_name": "Python 3 (ipykernel)",
   "language": "python",
   "name": "python3"
  },
  "language_info": {
   "codemirror_mode": {
    "name": "ipython",
    "version": 3
   },
   "file_extension": ".py",
   "mimetype": "text/x-python",
   "name": "python",
   "nbconvert_exporter": "python",
   "pygments_lexer": "ipython3",
   "version": "3.8.5"
  }
 },
 "nbformat": 4,
 "nbformat_minor": 5
}
